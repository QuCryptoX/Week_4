{
 "cells": [
  {
   "cell_type": "markdown",
   "metadata": {},
   "source": [
    "<h1 style=\"color:#00A6D6;\">Week 4: From imperfect information to (near) perfect security</h1>\n",
    "\n",
    "Welcome to the new Julia sheet! As usual, we will ask you to use Julia to answer a few exercises. Most importantly, however, the purpose of these Julia sheets is for you to play around and build intuition by exploring and calculating things we do NOT ask you :-) We hope that you take advantage of using Julia this way.\n",
    "\n",
    "* <a href=\"#Tra\">The risks of seedless extractors</a>\n",
    "* <a href=\"#Min\">Seeded extractors</a>\n",
    "\n",
    "The include command that follows will include all the functions that you have used on the previous weeks including D for trace distance and minEntropy for computing the min-entropy. Please use them as you see fit to answer the exercises."
   ]
  },
  {
   "cell_type": "code",
   "execution_count": 57,
   "metadata": {
    "collapsed": false
   },
   "outputs": [
    {
     "name": "stderr",
     "output_type": "stream",
     "text": [
      "INFO: Nothing to be done\n",
      "INFO: METADATA is out-of-date — you may not have the latest version of Convex\n",
      "INFO: Use `Pkg.update()` to get the latest versions of your packages\n",
      "INFO: Nothing to be done\n",
      "INFO: METADATA is out-of-date — you may not have the latest version of SCS\n",
      "INFO: Use `Pkg.update()` to get the latest versions of your packages\n",
      "WARNING: Method definition kron(Array{Float64, 2}, Convex.Variable) in module Main at /Users/localadmin/Google Drive/MOOC/Week4/HomeworkJulia/source/kron.jl:9 overwritten at /Users/localadmin/Google Drive/MOOC/Week4/HomeworkJulia/source/kron.jl:9.\n",
      "WARNING: Method definition makeM(Convex.Variable, Convex.Variable) in module Main at /Users/localadmin/Google Drive/MOOC/Week4/HomeworkJulia/source/makeM.jl:9 overwritten at /Users/localadmin/Google Drive/MOOC/Week4/HomeworkJulia/source/makeM.jl:9.\n",
      "WARNING: Method definition makeM(Convex.TransposeAtom, Convex.TransposeAtom) in module Main at /Users/localadmin/Google Drive/MOOC/Week4/HomeworkJulia/source/makeM.jl:25 overwritten at /Users/localadmin/Google Drive/MOOC/Week4/HomeworkJulia/source/makeM.jl:25.\n",
      "WARNING: Method definition (::Type{Main.Element})(Array{T<:Any, 1}, AbstractString, AbstractString, AbstractString, Number) in module Main at /Users/localadmin/Google Drive/MOOC/Week4/HomeworkJulia/source/bloch.jl:36 overwritten at /Users/localadmin/Google Drive/MOOC/Week4/HomeworkJulia/source/bloch.jl:36.\n",
      "WARNING: Method definition (::Type{Main.Element})(Any, Any, Any, Any, Any) in module Main at /Users/localadmin/Google Drive/MOOC/Week4/HomeworkJulia/source/bloch.jl:36 overwritten at /Users/localadmin/Google Drive/MOOC/Week4/HomeworkJulia/source/bloch.jl:36.\n",
      "WARNING: Base.ASCIIString is deprecated, use String instead.\n",
      "  likely near /Users/localadmin/Google Drive/MOOC/Week4/HomeworkJulia/source/bloch.jl:48\n",
      "WARNING: Base.ASCIIString is deprecated, use String instead.\n",
      "  likely near /Users/localadmin/Google Drive/MOOC/Week4/HomeworkJulia/source/bloch.jl:48\n",
      "WARNING: Base.ASCIIString is deprecated, use String instead.\n",
      "  likely near /Users/localadmin/Google Drive/MOOC/Week4/HomeworkJulia/source/bloch.jl:48\n",
      "WARNING: Base.ASCIIString is deprecated, use String instead.\n",
      "  likely near /Users/localadmin/Google Drive/MOOC/Week4/HomeworkJulia/source/bloch.jl:48\n",
      "WARNING: Method definition (::Type{Main.Bloch})(Array{Float64, 1}, Array{Float64, 1}, Array{Float64, 1}, Array{Float64, 1}, Float64, Float64, Any, Array{String, 1}, String) in module Main at /Users/localadmin/Google Drive/MOOC/Week4/HomeworkJulia/source/bloch.jl:49 overwritten at /Users/localadmin/Google Drive/MOOC/Week4/HomeworkJulia/source/bloch.jl:49.\n",
      "WARNING: Method definition (::Type{Main.Bloch})(Any, Any, Any, Any, Any, Any, Any, Any, Any) in module Main at /Users/localadmin/Google Drive/MOOC/Week4/HomeworkJulia/source/bloch.jl:49 overwritten at /Users/localadmin/Google Drive/MOOC/Week4/HomeworkJulia/source/bloch.jl:49.\n",
      "WARNING: Method definition (::Type{Main.Bloch})() in module Main at /Users/localadmin/Google Drive/MOOC/Week4/HomeworkJulia/source/bloch.jl:61 overwritten at /Users/localadmin/Google Drive/MOOC/Week4/HomeworkJulia/source/bloch.jl:61.\n",
      "WARNING: Method definition add_element(Main.Bloch, Array{T<:Any, 1}) in module Main at /Users/localadmin/Google Drive/MOOC/Week4/HomeworkJulia/source/bloch.jl:86 overwritten at /Users/localadmin/Google Drive/MOOC/Week4/HomeworkJulia/source/bloch.jl:86.\n",
      "WARNING: Method definition #add_element(Array{Any, 1}, Main.#add_element, Main.Bloch, Array{T<:Any, 1}) in module Main overwritten.\n",
      "WARNING: Method definition add_vector(Main.Bloch, Array{T<:Any, 1}) in module Main at /Users/localadmin/Google Drive/MOOC/Week4/HomeworkJulia/source/bloch.jl:102 overwritten at /Users/localadmin/Google Drive/MOOC/Week4/HomeworkJulia/source/bloch.jl:102.\n",
      "WARNING: Method definition add_vector(Main.Bloch, Array{T<:Any, 1}, AbstractString) in module Main at /Users/localadmin/Google Drive/MOOC/Week4/HomeworkJulia/source/bloch.jl:103 overwritten at /Users/localadmin/Google Drive/MOOC/Week4/HomeworkJulia/source/bloch.jl:103.\n",
      "WARNING: Method definition add_point(Main.Bloch, Array{T<:Any, 1}) in module Main at /Users/localadmin/Google Drive/MOOC/Week4/HomeworkJulia/source/bloch.jl:105 overwritten at /Users/localadmin/Google Drive/MOOC/Week4/HomeworkJulia/source/bloch.jl:105.\n",
      "WARNING: Method definition add_point(Main.Bloch, Array{T<:Any, 1}, AbstractString) in module Main at /Users/localadmin/Google Drive/MOOC/Week4/HomeworkJulia/source/bloch.jl:106 overwritten at /Users/localadmin/Google Drive/MOOC/Week4/HomeworkJulia/source/bloch.jl:106.\n",
      "WARNING: Method definition add_point(Main.Bloch, Array{T<:Any, 1}, AbstractString, Int64) in module Main at /Users/localadmin/Google Drive/MOOC/Week4/HomeworkJulia/source/bloch.jl:107 overwritten at /Users/localadmin/Google Drive/MOOC/Week4/HomeworkJulia/source/bloch.jl:107.\n",
      "WARNING: Method definition clear(Main.Bloch) in module Main at /Users/localadmin/Google Drive/MOOC/Week4/HomeworkJulia/source/bloch.jl:112 overwritten at /Users/localadmin/Google Drive/MOOC/Week4/HomeworkJulia/source/bloch.jl:112.\n",
      "WARNING: Method definition add_title(Main.Bloch, Any) in module Main at /Users/localadmin/Google Drive/MOOC/Week4/HomeworkJulia/source/bloch.jl:117 overwritten at /Users/localadmin/Google Drive/MOOC/Week4/HomeworkJulia/source/bloch.jl:117.\n",
      "WARNING: Method definition render(Main.Bloch) in module Main at /Users/localadmin/Google Drive/MOOC/Week4/HomeworkJulia/source/bloch.jl:125 overwritten at /Users/localadmin/Google Drive/MOOC/Week4/HomeworkJulia/source/bloch.jl:125.\n",
      "WARNING: Method definition render(Main.Bloch, Any) in module Main at /Users/localadmin/Google Drive/MOOC/Week4/HomeworkJulia/source/bloch.jl:125 overwritten at /Users/localadmin/Google Drive/MOOC/Week4/HomeworkJulia/source/bloch.jl:125.\n",
      "WARNING: Method definition ket_to_bloch(Array) in module Main at /Users/localadmin/Google Drive/MOOC/Week4/HomeworkJulia/source/func.jl:27 overwritten at /Users/localadmin/Google Drive/MOOC/Week4/HomeworkJulia/source/func.jl:27.\n",
      "WARNING: Method definition ket_to_bloch(Array, Any) in module Main at /Users/localadmin/Google Drive/MOOC/Week4/HomeworkJulia/source/func.jl:27 overwritten at /Users/localadmin/Google Drive/MOOC/Week4/HomeworkJulia/source/func.jl:27.\n",
      "WARNING: Method definition ket_to_bloch(Number, Number) in module Main at /Users/localadmin/Google Drive/MOOC/Week4/HomeworkJulia/source/func.jl:36 overwritten at /Users/localadmin/Google Drive/MOOC/Week4/HomeworkJulia/source/func.jl:36.\n",
      "WARNING: Method definition ket_to_bloch(Number, Number, Any) in module Main at /Users/localadmin/Google Drive/MOOC/Week4/HomeworkJulia/source/func.jl:36 overwritten at /Users/localadmin/Google Drive/MOOC/Week4/HomeworkJulia/source/func.jl:36.\n",
      "WARNING: Method definition dens_to_bloch(Array) in module Main at /Users/localadmin/Google Drive/MOOC/Week4/HomeworkJulia/source/func.jl:43 overwritten at /Users/localadmin/Google Drive/MOOC/Week4/HomeworkJulia/source/func.jl:43.\n",
      "WARNING: Method definition dens_to_bloch(Array, Any) in module Main at /Users/localadmin/Google Drive/MOOC/Week4/HomeworkJulia/source/func.jl:43 overwritten at /Users/localadmin/Google Drive/MOOC/Week4/HomeworkJulia/source/func.jl:43.\n",
      "WARNING: Method definition minEntropy(Any, Any) in module Main at /Users/localadmin/Google Drive/MOOC/Week4/HomeworkJulia/source/minEntropy.jl:10 overwritten at /Users/localadmin/Google Drive/MOOC/Week4/HomeworkJulia/source/minEntropy.jl:10.\n",
      "WARNING: Method definition isQuantumState(Any) in module Main at /Users/localadmin/Google Drive/MOOC/Week4/HomeworkJulia/source/isQuantumState.jl:8 overwritten at /Users/localadmin/Google Drive/MOOC/Week4/HomeworkJulia/source/isQuantumState.jl:8.\n",
      "WARNING: Method definition D(Any, Any) in module Main at In[34]:7 overwritten at /Users/localadmin/Google Drive/MOOC/Week4/HomeworkJulia/source/D.jl:21.\n"
     ]
    },
    {
     "data": {
      "text/plain": [
       "eVec (generic function with 1 method)"
      ]
     },
     "execution_count": 57,
     "metadata": {},
     "output_type": "execute_result"
    }
   ],
   "source": [
    "include(\"source/main.jl\")"
   ]
  },
  {
   "cell_type": "markdown",
   "metadata": {},
   "source": [
    "<a id=Tra></a>\n",
    "<h2 style=\"color:#00A6D6;\">The risks of seedless extractors</h2>\n",
    "\n",
    "This week we learnt that given a source $X$ for which we have the promise that $H_{\\min}(X|E)\\geq k$ we can extract a  new string $Z$ that is close to uniform and uncorrelated from $E$.\n",
    "\n",
    "We also saw that, in the absence of an additional randomness source, randomness extraction is doomed to fail. Let us explore a seedless extractor that takes a three bit string to a one bit string:\n",
    "\n",
    "$$\n",
    "\\textrm{Ext}_y(x)=y\\cdot x^t\n",
    "$$\n",
    "\n",
    "where $y=(1,1,1)$ and $x$ is a three bit string."
   ]
  },
  {
   "cell_type": "markdown",
   "metadata": {},
   "source": [
    "<h3 style=\"color:#00A6D6;\"> edX Exercise 1</h3>\n",
    "\n",
    "Let us suppose that $X$ is given by:\n",
    "\n",
    "$$\n",
    "X= \\left\\{ \n",
    "\\begin{array}{ll} \n",
    "(0,0,0) & \\textrm{ with probability } 1/8\\\\\n",
    "(0,0,1) & \\textrm{ with probability } 1/8\\\\\n",
    "(0,1,0) & \\textrm{ with probability } 3/8\\\\\n",
    "(0,1,1) & \\textrm{ with probability } 3/8\\ .\n",
    "\\end{array}\n",
    "\\right .\n",
    "$$\n",
    "\n",
    "* What is the min-entropy of $X$?\n",
    "\n",
    "* What is the trace distance of $\\textrm{Ext}_y(X)$ to a uniform bit string?\n",
    "\n",
    "Enter your answer into edX rounded to 3 digits."
   ]
  },
  {
   "cell_type": "code",
   "execution_count": 111,
   "metadata": {
    "collapsed": false
   },
   "outputs": [],
   "source": [
    "# You can write your code here"
   ]
  },
  {
   "cell_type": "markdown",
   "metadata": {},
   "source": [
    "<h3 style=\"color:#00A6D6;\"> edX Exercise 2</h3>\n",
    "\n",
    "Let us suppose that Eve knows the exact distribution of our source $X$ and she convinces us to continue using $\\textrm{Ext}_y(x)=y\\cdot x^t$, but now she chooses $y$ at her will.\n",
    "\n",
    "* Can she choose $y$ such that the trace distance of $\\textrm{Ext}_y(X)$ to a uniform bit string is 1?\n",
    "* What is the trace distance of $\\textrm{Ext}_y(X)$ to a uniform bit string if $y=(1,1,0)$?\n",
    "\n",
    "Enter your answer into edX rounded to 3 digits."
   ]
  },
  {
   "cell_type": "code",
   "execution_count": 115,
   "metadata": {
    "collapsed": false
   },
   "outputs": [],
   "source": [
    "# You can write your code here"
   ]
  },
  {
   "cell_type": "markdown",
   "metadata": {},
   "source": [
    "<a id=Min></a>\n",
    "<h2 style=\"color:#00A6D6;\"> Seeded extractors </h2>"
   ]
  },
  {
   "cell_type": "markdown",
   "metadata": {},
   "source": [
    "After the risky experiments with seedless extractors, Alice and Bob decide to use a random seed in their extraction protocols. Suppose that \n",
    "\n",
    "$$\\rho_{AE}=\\sum_{x\\in\\{0,1\\}^3}p_x|x\\rangle\\langle x|^A\\otimes\\rho_x^E$$ \n",
    "\n",
    "is a classical quantum state (classical on Alice, quantum on Eve) given by the following description:\n",
    "\n",
    "\\begin{array}{lll} \n",
    "\\textrm{Alice's string} & \\textrm{Eve's correlated state} & \\textrm{probability}\\\\\n",
    "(0,0,0) & |0\\rangle\\langle 0|\\otimes |+\\rangle\\langle +|& 1/16\\\\\n",
    "(0,0,1) & |0\\rangle\\langle 0|\\otimes |-\\rangle\\langle -| & 1/16\\\\\n",
    "(0,1,0) & |1\\rangle\\langle 1|\\otimes |+\\rangle\\langle +| & 3/16\\\\\n",
    "(0,1,1) & |1\\rangle\\langle 1|\\otimes |-\\rangle\\langle -| & 3/16\\\\\n",
    "(1,0,0) & |+\\rangle\\langle +|\\otimes |0\\rangle\\langle 0| & 1/16\\\\\n",
    "(1,0,1) & |+\\rangle\\langle +|\\otimes |1\\rangle\\langle 1| & 1/16\\\\\n",
    "(1,1,0) & |-\\rangle\\langle -|\\otimes |0\\rangle\\langle 0| & 3/16\\\\\n",
    "(1,1,1) & |-\\rangle\\langle -|\\otimes |1\\rangle\\langle 1| & 3/16\\ .\n",
    "\\end{array}\n",
    "\n",
    "<h3 style=\"color:#00A6D6;\"> edX Exercise 3</h3>\n",
    "\n",
    "This time the extractor will be:\n",
    "\n",
    "$$\n",
    "\\textrm{Ext}(x,y)=y\\cdot x^t\n",
    "$$\n",
    "\n",
    "and $y$ will be chosen with uniform probability from the set $\\{(1,0,0),(0,0,1)\\}$.\n",
    "\n",
    "* What is $H_{\\min}(X|E)$?\n",
    "\n",
    "* What is the trace distance of the state after running the extractor $$\\rho_{\\textrm{Ext}(X,Y)YE}$$ to the ideal state $$\\frac{1}{4}\\mathbb I_{2}\\otimes\\left(|100\\rangle\\langle100|+|001\\rangle\\langle001|\\right)\\otimes \\rho_E?$$\n",
    "\n",
    "Enter your answer into edX rounded to 3 digits."
   ]
  },
  {
   "cell_type": "markdown",
   "metadata": {},
   "source": [
    "<h3 style=\"color:#00A6D6;\"> edX Exercise 4</h3>\n",
    "This time the extractor will also be:\n",
    "\n",
    "$$\n",
    "\\textrm{Ext}(x,y)=y\\cdot x^t\n",
    "$$\n",
    "\n",
    "but $y$ will be chosen with uniform probability from the set of bit strings of length 3.\n",
    "\n",
    "* What is the trace distance of the state after running the extractor $$\\rho_{\\textrm{Ext}(X,Y)YE}$$ to the ideal state $$\\frac{1}{16}\\mathbb I_{2}\\otimes\\mathbb I_8\\otimes \\rho_E?$$\n",
    "\n",
    "Enter your answer into edX rounded to 3 digits."
   ]
  },
  {
   "cell_type": "markdown",
   "metadata": {},
   "source": [
    "<h2 style=\"color:#00A6D6;\"> Auxiliary functions </h2>\n",
    "\n",
    "Feel free to write your own routines for solving the exercises of this week. However, we have written a small function that might be of help. It takes inputs\n",
    "\n",
    "* rhoArray = An array containing the matrices $\\{p_x\\rho_x^E\\}_{x\\in\\{0,1\\}^n}$ associated with the cq-state $\\rho_{XE}=\\sum_{x\\in\\{0,1\\}^n}p_x|x\\rangle\\langle x|^X\\otimes\\rho_x^E$\n",
    "* y = A binary vector of lenght $n$\n",
    "\n",
    "and returns $\\{p_0\\rho_0^E,p_1\\rho_1^E\\}$ associated with the cq-state $\\rho_{Ext(X,y)E}.$\n"
   ]
  },
  {
   "cell_type": "code",
   "execution_count": 80,
   "metadata": {
    "collapsed": false
   },
   "outputs": [
    {
     "name": "stderr",
     "output_type": "stream",
     "text": [
      "WARNING: Method definition rhoArrayAfterExt(Any, Any) in module Main at In[78]:7 overwritten at In[80]:7.\n"
     ]
    },
    {
     "data": {
      "text/plain": [
       "rhoArrayAfterExt (generic function with 1 method)"
      ]
     },
     "execution_count": 80,
     "metadata": {},
     "output_type": "execute_result"
    }
   ],
   "source": [
    "# Input: \n",
    "#     rhoArray = array of states non-normalized states on E: [p_0 * rho_0^E, ..., p_{n-1} * rho_{n-1}^E]\n",
    "#     y = vector for randomness extraction, each string x will be taken to y * x^t\n",
    "# Output: [p_0 * rho_0^E,p_1 * rho_1^E]\n",
    "#\n",
    "function rhoArrayAfterExt(rhoArray,y)\n",
    "    n = length(rhoArray)\n",
    "    l = length(y)\n",
    "    if 2^l != n\n",
    "        print(\"Dimensions do not match\\n\")\n",
    "        return -1\n",
    "    end\n",
    "    rho0 = zeros(rhoArray[1])\n",
    "    rho1 = zeros(rho0)\n",
    "    \n",
    "    for i = 1:n\n",
    "        v = bin(i-1,l)\n",
    "\n",
    "        z = 0\n",
    "        for j = 1:l            \n",
    "            z = (z + parse(Int,v[j])*y[j]) % 2\n",
    "        end\n",
    "\n",
    "        if z == 0\n",
    "            rho0 = rho0 + rhoArray[i]\n",
    "        else            \n",
    "            rho1 = rho1 + rhoArray[i]        \n",
    "        end\n",
    "    end\n",
    "    return Array[rho0,rho1]\n",
    "end"
   ]
  },
  {
   "cell_type": "code",
   "execution_count": 120,
   "metadata": {
    "collapsed": false
   },
   "outputs": [
    {
     "name": "stdout",
     "output_type": "stream",
     "text": [
      "[0.333333 0.0; 0.0 0.333333][0.333333 0.0; 0.0 0.0]"
     ]
    }
   ],
   "source": [
    "# Example\n",
    "# Given the state rho = (|00><00|^X x |0><0|^E+|11><11|^X x |1><1|^E+|01><01|^X x |0><0|^E)/3\n",
    "# Get the resulting state after applying Ext(X,y) with y=(1,1)\n",
    "\n",
    "inputRhoArrayEx = Array[1/3*e0, 1/3*e0, zeros(e0), 1/3*e1];\n",
    "outputRhoArrayEx = rhoArrayAfterExt(inputRhoArrayEx,[1,1]);\n",
    "print(outputRhoArrayEx[1],outputRhoArrayEx[2])"
   ]
  },
  {
   "cell_type": "markdown",
   "metadata": {},
   "source": [
    "## Solutions"
   ]
  },
  {
   "cell_type": "code",
   "execution_count": 121,
   "metadata": {
    "collapsed": true
   },
   "outputs": [],
   "source": [
    "# Some auxiliary vectors\n",
    "\n",
    "e000 = eVec(8,1)*eVec(8,1)';\n",
    "e001 = eVec(8,2)*eVec(8,2)';\n",
    "e010 = eVec(8,3)*eVec(8,3)';\n",
    "e011 = eVec(8,4)*eVec(8,4)';\n",
    "e100 = eVec(8,5)*eVec(8,5)';\n",
    "e101 = eVec(8,6)*eVec(8,6)';\n",
    "e110 = eVec(8,7)*eVec(8,7)';\n",
    "e111 = eVec(8,8)*eVec(8,8)';\n",
    "e0 = eVec(2,1)*eVec(2,1)';\n",
    "e1 = eVec(2,2)*eVec(2,2)';\n",
    "ePlus = [1 1; 1 1]/2;\n",
    "eMinus = [1 -1; -1 1]/2;\n",
    "\n",
    "e0Plus = kron(e0,ePlus);\n",
    "e0Minus = kron(e0,eMinus);\n",
    "e1Plus = kron(e1,ePlus);\n",
    "e1Minus = kron(e1,eMinus);\n",
    "ePlus0 = kron(ePlus,e0);\n",
    "eMinus0 = kron(eMinus,e0);\n",
    "ePlus1 = kron(ePlus,e1);\n",
    "eMinus1 = kron(eMinus,e1);"
   ]
  },
  {
   "cell_type": "code",
   "execution_count": 122,
   "metadata": {
    "collapsed": false
   },
   "outputs": [
    {
     "name": "stdout",
     "output_type": "stream",
     "text": [
      "The min-entropy is 1.415\n",
      "The trace distance is 0.0\n"
     ]
    }
   ],
   "source": [
    "# Exercise 1\n",
    "\n",
    "rhoEx1 = 1/8*e000 + 1/8*e001 + 3/8*e010 + 3/8*e011; # compare with rho1\n",
    "\n",
    "inputRhoArrayEx1 = Array[[1/8], [1/8], [3/8], [3/8], [0], [0], [0], [0]];\n",
    "outputRhoArrayEx1 = rhoArrayAfterExt(inputRhoArrayEx1,[1,1,1])\n",
    "\n",
    "m = minEntropy(rhoEx1,8);\n",
    "print(\"The min-entropy is \",round(m,3),\"\\n\")\n",
    "\n",
    "outputRhoEx1 = kron(e0,outputRhoArrayEx1[1])+kron(e1,outputRhoArrayEx1[2])\n",
    "d = D(outputRhoEx1,eye(2)/2)\n",
    "print(\"The trace distance is \", round(d,3),\"\\n\")"
   ]
  },
  {
   "cell_type": "code",
   "execution_count": 123,
   "metadata": {
    "collapsed": false
   },
   "outputs": [
    {
     "name": "stdout",
     "output_type": "stream",
     "text": [
      "The trace distance is 0.25\n"
     ]
    }
   ],
   "source": [
    "# Exercise 2\n",
    "\n",
    "outputRhoArrayEx2 = rhoArrayAfterExt(inputRhoArrayEx1,[1,1,0])\n",
    "outputRhoEx2 = kron(e0,outputRhoArrayEx2[1])+kron(e1,outputRhoArrayEx2[2])\n",
    "d = D(outputRhoEx2,eye(2)/2)\n",
    "print(\"The trace distance is \", round(d,3),\"\\n\")"
   ]
  },
  {
   "cell_type": "code",
   "execution_count": 124,
   "metadata": {
    "collapsed": false
   },
   "outputs": [
    {
     "name": "stdout",
     "output_type": "stream",
     "text": [
      "The min-entropy is 0.643\n",
      "The trace distance is 0.448\n"
     ]
    }
   ],
   "source": [
    "# Exercise 3 \n",
    "\n",
    "rhoEx3 = (kron(e000,1/16*e0Plus)+kron(e001,1/16*e0Minus)+kron(e010,3/16*e1Plus)+kron(e011,3/16*e1Minus)+ kron(e100,1/16*ePlus0)+kron(e101,1/16*ePlus1)+kron(e110,3/16*eMinus0)+kron(e111,3/16*eMinus1))\n",
    "rhoE = (1/16*e0Plus+1/16*e0Minus+3/16*e1Plus+3/16*e1Minus+1/16*ePlus0+1/16*ePlus1+3/16*eMinus0+3/16*eMinus1)\n",
    "m = minEntropy(rhoEx3,8);\n",
    "print(\"The min-entropy is \",round(m,3),\"\\n\") \n",
    "\n",
    "inputRhoArrayEx3 = Array[1/16*e0Plus,1/16*e0Minus,3/16*e1Plus,3/16*e1Minus,1/16*ePlus0,1/16*ePlus1,3/16*eMinus0,3/16*eMinus1]\n",
    "outPutRhoArrayEx3_100 = rhoArrayAfterExt(inputRhoArrayEx3,[1,0,0]);\n",
    "outPutRhoArrayEx3_001 = rhoArrayAfterExt(inputRhoArrayEx3,[0,0,1]);\n",
    "\n",
    "# Let us construct rhoExt(X,Y)YE\n",
    "rhoExt100YE = kron(e0,e100,outPutRhoArrayEx3_100[1])+kron(e1,e100,outPutRhoArrayEx3_100[2])\n",
    "rhoExt001YE = kron(e0,e001,outPutRhoArrayEx3_001[1])+kron(e1,e001,outPutRhoArrayEx3_001[2])\n",
    "\n",
    "rhoExtYE = (rhoExt100YE+rhoExt001YE)/2\n",
    "rhoXYE = kron(eye(2)/2,(e001+e100)/3,rhoE)\n",
    "d = D(rhoExtYE,rhoXYE)\n",
    "print(\"The trace distance is \",round(d,3),\"\\n\") "
   ]
  },
  {
   "cell_type": "code",
   "execution_count": 125,
   "metadata": {
    "collapsed": false
   },
   "outputs": [
    {
     "name": "stdout",
     "output_type": "stream",
     "text": [
      "The trace distance is 0.343\n"
     ]
    }
   ],
   "source": [
    "# Exercise 4\n",
    "\n",
    "outPutRhoArrayEx4_000 = rhoArrayAfterExt(inputRhoArrayEx3,[0,0,0]);\n",
    "outPutRhoArrayEx4_001 = rhoArrayAfterExt(inputRhoArrayEx3,[0,0,1]);\n",
    "outPutRhoArrayEx4_010 = rhoArrayAfterExt(inputRhoArrayEx3,[0,1,0]);\n",
    "outPutRhoArrayEx4_011 = rhoArrayAfterExt(inputRhoArrayEx3,[0,1,1]);\n",
    "outPutRhoArrayEx4_100 = rhoArrayAfterExt(inputRhoArrayEx3,[1,0,0]);\n",
    "outPutRhoArrayEx4_101 = rhoArrayAfterExt(inputRhoArrayEx3,[1,0,1]);\n",
    "outPutRhoArrayEx4_110 = rhoArrayAfterExt(inputRhoArrayEx3,[1,1,0]);\n",
    "outPutRhoArrayEx4_111 = rhoArrayAfterExt(inputRhoArrayEx3,[1,1,1]);\n",
    "\n",
    "# Let us construct rhoExt(X,Y)YE\n",
    "rhoExt000YE = kron(e0,e000,outPutRhoArrayEx4_000[1])+kron(e1,e000,outPutRhoArrayEx4_000[2])\n",
    "rhoExt001YE = kron(e0,e001,outPutRhoArrayEx4_001[1])+kron(e1,e001,outPutRhoArrayEx4_001[2])\n",
    "rhoExt010YE = kron(e0,e010,outPutRhoArrayEx4_010[1])+kron(e1,e010,outPutRhoArrayEx4_010[2])\n",
    "rhoExt011YE = kron(e0,e011,outPutRhoArrayEx4_011[1])+kron(e1,e011,outPutRhoArrayEx4_011[2])\n",
    "rhoExt100YE = kron(e0,e100,outPutRhoArrayEx4_100[1])+kron(e1,e100,outPutRhoArrayEx4_100[2])\n",
    "rhoExt101YE = kron(e0,e101,outPutRhoArrayEx4_101[1])+kron(e1,e101,outPutRhoArrayEx4_101[2])\n",
    "rhoExt110YE = kron(e0,e110,outPutRhoArrayEx4_110[1])+kron(e1,e110,outPutRhoArrayEx4_110[2])\n",
    "rhoExt111YE = kron(e0,e111,outPutRhoArrayEx4_111[1])+kron(e1,e111,outPutRhoArrayEx4_111[2])\n",
    "\n",
    "rhoExtYE = (rhoExt000YE+rhoExt001YE+rhoExt010YE+rhoExt011YE+rhoExt100YE+rhoExt101YE+rhoExt110YE+rhoExt111YE)/8\n",
    "rhoXYE = kron(eye(16)/16,rhoE)\n",
    "d = D(rhoExtYE,rhoXYE)\n",
    "print(\"The trace distance is \",round(d,3),\"\\n\") "
   ]
  },
  {
   "cell_type": "code",
   "execution_count": null,
   "metadata": {
    "collapsed": true
   },
   "outputs": [],
   "source": []
  }
 ],
 "metadata": {
  "anaconda-cloud": {},
  "kernelspec": {
   "display_name": "Julia 0.5.0",
   "language": "julia",
   "name": "julia-0.5"
  },
  "language_info": {
   "file_extension": ".jl",
   "mimetype": "application/julia",
   "name": "julia",
   "version": "0.5.0"
  }
 },
 "nbformat": 4,
 "nbformat_minor": 0
}
