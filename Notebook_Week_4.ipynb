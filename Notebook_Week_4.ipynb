{
 "cells": [
  {
   "cell_type": "markdown",
   "metadata": {},
   "source": [
    "<h1 style=\"color:#00A6D6;\">Week 4: From imperfect information to (near) perfect security</h1>\n",
    "\n",
    "Welcome to the new Julia sheet! As usual, we will ask you to use Julia to answer a few exercises. Most importantly, however, the purpose of these Julia sheets is for you to play around and build intuition by exploring and calculating things we do NOT ask you :-) We hope that you take advantage of using Julia this way.\n",
    "\n",
    "* <a href=\"#Tra\">The risks of seedless extractors</a>\n",
    "* <a href=\"#Min\">Seeded extractors</a>\n",
    "\n",
    "The include command that follows will include all the functions that you have used on the previous weeks including D for trace distance and minEntropy for computing the min-entropy. Please use them as you see fit to answer the exercises."
   ]
  },
  {
   "cell_type": "code",
   "execution_count": null,
   "metadata": {
    "collapsed": false
   },
   "outputs": [],
   "source": [
    "include(\"source/main.jl\")"
   ]
  },
  {
   "cell_type": "markdown",
   "metadata": {},
   "source": [
    "<a id=Tra></a>\n",
    "<h2 style=\"color:#00A6D6;\">The risks of seedless extractors</h2>\n",
    "\n",
    "This week we learnt that given a source $X$ for which we have the promise that $H_{\\min}(X|E)\\geq k$ we can extract a  new string $Z$ that is close to uniform and uncorrelated from $E$.\n",
    "\n",
    "We also saw that, in the absence of an additional randomness source, randomness extraction is doomed to fail. Let us explore a seedless extractor that takes a three bit string to a one bit string:\n",
    "\n",
    "$$\n",
    "\\textrm{Ext}_y(x)=y\\cdot x^t\n",
    "$$\n",
    "\n",
    "where $y=(1,1,1)$ and $x$ is a three bit string."
   ]
  },
  {
   "cell_type": "markdown",
   "metadata": {},
   "source": [
    "<h3 style=\"color:#00A6D6;\"> edX Exercise 1</h3>\n",
    "\n",
    "Let us suppose that $X$ is given by:\n",
    "\n",
    "$$\n",
    "X= \\left\\{ \n",
    "\\begin{array}{ll} \n",
    "(0,0,0) & \\textrm{ with probability } 1/8\\\\\n",
    "(0,0,1) & \\textrm{ with probability } 1/8\\\\\n",
    "(0,1,0) & \\textrm{ with probability } 3/8\\\\\n",
    "(0,1,1) & \\textrm{ with probability } 3/8\\ .\n",
    "\\end{array}\n",
    "\\right .\n",
    "$$\n",
    "\n",
    "* What is the min-entropy of $X$?\n",
    "\n",
    "* What is the trace distance of $\\textrm{Ext}_y(X)$ to a uniform bit string?\n",
    "\n",
    "Enter your answer into edX rounded to 3 digits."
   ]
  },
  {
   "cell_type": "code",
   "execution_count": null,
   "metadata": {
    "collapsed": false
   },
   "outputs": [],
   "source": [
    "# You can write your code here"
   ]
  },
  {
   "cell_type": "markdown",
   "metadata": {},
   "source": [
    "<h3 style=\"color:#00A6D6;\"> edX Exercise 2</h3>\n",
    "\n",
    "Let us suppose that Eve knows the exact distribution of our source $X$ and she convinces us to continue using $\\textrm{Ext}_y(x)=y\\cdot x^t$, but now she chooses $y$ at her will.\n",
    "\n",
    "* Can she choose $y$ such that the trace distance of $\\textrm{Ext}_y(X)$ to a uniform bit string is 1?\n",
    "* What is the trace distance of $\\textrm{Ext}_y(X)$ to a uniform bit string if $y=(1,1,0)$?\n",
    "\n",
    "Enter your answer into edX rounded to 3 digits."
   ]
  },
  {
   "cell_type": "code",
   "execution_count": null,
   "metadata": {
    "collapsed": false
   },
   "outputs": [],
   "source": [
    "# You can write your code here"
   ]
  },
  {
   "cell_type": "markdown",
   "metadata": {},
   "source": [
    "<a id=Min></a>\n",
    "<h2 style=\"color:#00A6D6;\"> Seeded extractors </h2>"
   ]
  },
  {
   "cell_type": "markdown",
   "metadata": {},
   "source": [
    "After the risky experiments with seedless extractors, Alice and Bob decide to use a random seed in their extraction protocols. Suppose that \n",
    "\n",
    "$$\\rho_{AE}=\\sum_{x\\in\\{0,1\\}^3}p_x|x\\rangle\\langle x|^A\\otimes\\rho_x^E$$ \n",
    "\n",
    "is a classical quantum state (classical on Alice, quantum on Eve) given by the following description:\n",
    "\n",
    "\\begin{array}{lll} \n",
    "\\textrm{Alice's string} & \\textrm{Eve's correlated state} & \\textrm{probability}\\\\\n",
    "(0,0,0) & |0\\rangle\\langle 0|\\otimes |+\\rangle\\langle +|& 1/16\\\\\n",
    "(0,0,1) & |0\\rangle\\langle 0|\\otimes |-\\rangle\\langle -| & 1/16\\\\\n",
    "(0,1,0) & |1\\rangle\\langle 1|\\otimes |+\\rangle\\langle +| & 3/16\\\\\n",
    "(0,1,1) & |1\\rangle\\langle 1|\\otimes |-\\rangle\\langle -| & 3/16\\\\\n",
    "(1,0,0) & |+\\rangle\\langle +|\\otimes |0\\rangle\\langle 0| & 1/16\\\\\n",
    "(1,0,1) & |+\\rangle\\langle +|\\otimes |1\\rangle\\langle 1| & 1/16\\\\\n",
    "(1,1,0) & |-\\rangle\\langle -|\\otimes |0\\rangle\\langle 0| & 3/16\\\\\n",
    "(1,1,1) & |-\\rangle\\langle -|\\otimes |1\\rangle\\langle 1| & 3/16\\ .\n",
    "\\end{array}\n",
    "\n",
    "<h3 style=\"color:#00A6D6;\"> edX Exercise 3</h3>\n",
    "\n",
    "This time the extractor will be:\n",
    "\n",
    "$$\n",
    "\\textrm{Ext}(x,y)=y\\cdot x^t\n",
    "$$\n",
    "\n",
    "and $y$ will be chosen with uniform probability from the set $\\{(1,0,0),(0,0,1)\\}$.\n",
    "\n",
    "* What is $H_{\\min}(X|E)$?\n",
    "\n",
    "* What is the trace distance of the state after running the extractor $$\\rho_{\\textrm{Ext}(X,Y)YE}$$ to the ideal state $$\\frac{1}{4}\\mathbb I_{2}\\otimes\\left(|100\\rangle\\langle100|+|001\\rangle\\langle001|\\right)\\otimes \\rho_E?$$\n",
    "\n",
    "Enter your answer into edX rounded to 3 digits."
   ]
  },
  {
   "cell_type": "markdown",
   "metadata": {},
   "source": [
    "<h3 style=\"color:#00A6D6;\"> edX Exercise 4</h3>\n",
    "This time the extractor will also be:\n",
    "\n",
    "$$\n",
    "\\textrm{Ext}(x,y)=y\\cdot x^t\n",
    "$$\n",
    "\n",
    "but $y$ will be chosen with uniform probability from the set of bit strings of length 3.\n",
    "\n",
    "* What is the trace distance of the state after running the extractor $$\\rho_{\\textrm{Ext}(X,Y)YE}$$ to the ideal state $$\\frac{1}{16}\\mathbb I_{2}\\otimes\\mathbb I_8\\otimes \\rho_E?$$\n",
    "\n",
    "Enter your answer into edX rounded to 3 digits."
   ]
  },
  {
   "cell_type": "markdown",
   "metadata": {},
   "source": [
    "<h2 style=\"color:#00A6D6;\"> Auxiliary functions </h2>\n",
    "\n",
    "Feel free to write your own routines for solving the exercises of this week. However, we have written a small function that might be of help. It takes inputs\n",
    "\n",
    "* rhoArray = An array containing the matrices $\\{p_x\\rho_x^E\\}_{x\\in\\{0,1\\}^n}$ associated with the cq-state $\\rho_{XE}=\\sum_{x\\in\\{0,1\\}^n}p_x|x\\rangle\\langle x|^X\\otimes\\rho_x^E$\n",
    "* y = A binary vector of lenght $n$\n",
    "\n",
    "and returns $\\{p_0\\rho_0^E,p_1\\rho_1^E\\}$ associated with the cq-state $\\rho_{Ext(X,y)E}.$\n"
   ]
  },
  {
   "cell_type": "code",
   "execution_count": null,
   "metadata": {
    "collapsed": false
   },
   "outputs": [],
   "source": [
    "# Input: \n",
    "#     rhoArray = array of states non-normalized states on E: [p_0 * rho_0^E, ..., p_{n-1} * rho_{n-1}^E]\n",
    "#     y = vector for randomness extraction, each string x will be taken to y * x^t\n",
    "# Output: [p_0 * rho_0^E,p_1 * rho_1^E]\n",
    "#\n",
    "function rhoArrayAfterExt(rhoArray,y)\n",
    "    n = length(rhoArray)\n",
    "    l = length(y)\n",
    "    if 2^l != n\n",
    "        print(\"Dimensions do not match\\n\")\n",
    "        return -1\n",
    "    end\n",
    "    rho0 = zeros(rhoArray[1])\n",
    "    rho1 = zeros(rho0)\n",
    "    \n",
    "    for i = 1:n\n",
    "        v = bin(i-1,l)\n",
    "\n",
    "        z = 0\n",
    "        for j = 1:l            \n",
    "            z = (z + parse(Int,v[j])*y[j]) % 2\n",
    "        end\n",
    "\n",
    "        if z == 0\n",
    "            rho0 = rho0 + rhoArray[i]\n",
    "        else            \n",
    "            rho1 = rho1 + rhoArray[i]        \n",
    "        end\n",
    "    end\n",
    "    return Array[rho0,rho1]\n",
    "end"
   ]
  },
  {
   "cell_type": "code",
   "execution_count": null,
   "metadata": {
    "collapsed": false
   },
   "outputs": [],
   "source": [
    "# Example\n",
    "# Given the state rho = (|00><00|^X x |0><0|^E+|11><11|^X x |1><1|^E+|01><01|^X x |0><0|^E)/3\n",
    "# Get the resulting state after applying Ext(X,y) with y=(1,1)\n",
    "\n",
    "inputRhoArrayEx = Array[1/3*e0, 1/3*e0, zeros(e0), 1/3*e1];\n",
    "outputRhoArrayEx = rhoArrayAfterExt(inputRhoArrayEx,[1,1]);\n",
    "print(outputRhoArrayEx[1],outputRhoArrayEx[2])"
   ]
  },
  {
   "cell_type": "code",
   "execution_count": null,
   "metadata": {
    "collapsed": true
   },
   "outputs": [],
   "source": []
  }
 ],
 "metadata": {
  "anaconda-cloud": {},
  "kernelspec": {
   "display_name": "Julia 0.5.0",
   "language": "julia",
   "name": "julia-0.5"
  },
  "language_info": {
   "file_extension": ".jl",
   "mimetype": "application/julia",
   "name": "julia",
   "version": "0.5.0"
  }
 },
 "nbformat": 4,
 "nbformat_minor": 0
}
